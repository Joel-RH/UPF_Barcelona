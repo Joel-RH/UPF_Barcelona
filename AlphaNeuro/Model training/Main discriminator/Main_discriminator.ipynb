{
  "nbformat": 4,
  "nbformat_minor": 0,
  "metadata": {
    "colab": {
      "name": "Main_discriminator.ipynb",
      "provenance": [],
      "collapsed_sections": []
    },
    "kernelspec": {
      "name": "python3",
      "display_name": "Python 3"
    },
    "language_info": {
      "name": "python"
    },
    "accelerator": "GPU"
  },
  "cells": [
    {
      "cell_type": "markdown",
      "metadata": {
        "id": "ZOz8sh37khk8"
      },
      "source": [
        "# Classification system\n"
      ]
    },
    {
      "cell_type": "markdown",
      "metadata": {
        "id": "Ruihyq0TlXEQ"
      },
      "source": [
        "## **Import Necessary Modules**"
      ]
    },
    {
      "cell_type": "code",
      "metadata": {
        "colab": {
          "base_uri": "https://localhost:8080/"
        },
        "id": "Iizol4_gvn8-",
        "outputId": "09cc7de7-4717-4386-ee8d-4e6fadfaf573"
      },
      "source": [
        "from google.colab import drive\n",
        "drive.mount('/content/drive',force_remount=True)"
      ],
      "execution_count": null,
      "outputs": [
        {
          "output_type": "stream",
          "name": "stdout",
          "text": [
            "Mounted at /content/drive\n"
          ]
        }
      ]
    },
    {
      "cell_type": "code",
      "metadata": {
        "colab": {
          "base_uri": "https://localhost:8080/"
        },
        "id": "1cYpspMdv9HX",
        "outputId": "8023a68e-67f3-426e-cbe7-2fc998794651"
      },
      "source": [
        "pip install biopython"
      ],
      "execution_count": null,
      "outputs": [
        {
          "output_type": "stream",
          "name": "stdout",
          "text": [
            "Collecting biopython\n",
            "  Downloading biopython-1.79-cp37-cp37m-manylinux_2_5_x86_64.manylinux1_x86_64.whl (2.3 MB)\n",
            "\u001b[K     |████████████████████████████████| 2.3 MB 5.2 MB/s \n",
            "\u001b[?25hRequirement already satisfied: numpy in /usr/local/lib/python3.7/dist-packages (from biopython) (1.19.5)\n",
            "Installing collected packages: biopython\n",
            "Successfully installed biopython-1.79\n"
          ]
        }
      ]
    },
    {
      "cell_type": "code",
      "metadata": {
        "id": "B1Z98z_1v-oP"
      },
      "source": [
        "import os\n",
        "import keras\n",
        "import numpy as np\n",
        "from sklearn.preprocessing import MultiLabelBinarizer\n",
        "from Bio import SeqIO  \n",
        "import pandas as pd\n",
        "from keras.utils import np_utils\n",
        "import matplotlib.pyplot as plt\n",
        "from random import shuffle\n",
        "%matplotlib inline\n",
        "from sklearn.cluster import KMeans\n",
        "from keras.models import Sequential\n",
        "from keras.layers import Flatten, Dense, Dropout, Embedding, LSTM\n",
        "from keras import regularizers, layers, preprocessing\n",
        "from sklearn.metrics import confusion_matrix, precision_score, recall_score, accuracy_score, f1_score\n",
        "from sklearn.metrics import roc_auc_score, roc_curve, precision_recall_curve, average_precision_score\n",
        "from sklearn.preprocessing import LabelEncoder\n",
        "from keras.preprocessing.text import Tokenizer\n",
        "from keras.preprocessing.sequence import pad_sequences\n",
        "import pandas as pd\n",
        "import tensorflow as tf\n",
        "from sklearn.utils import shuffle"
      ],
      "execution_count": null,
      "outputs": []
    },
    {
      "cell_type": "markdown",
      "metadata": {
        "id": "fqJkAEqGlcDd"
      },
      "source": [
        "# **Main model with 3 classes**\n",
        "\n",
        "The first step is to generate the CSV with the three different classes in it\n"
      ]
    },
    {
      "cell_type": "code",
      "metadata": {
        "id": "Ovc_Rr1EycjY"
      },
      "source": [
        "main_csv=open('ADD_YOUR_PATH', 'w')\n",
        "og=[]\n",
        "rep=[]\n",
        "main_csv.write('function,genes' + '\\n') #We write the header for the CSV  \n",
        "CSVs=os.listdir('ADD_YOUR_PATH') #To search every CSV in the same directory\n",
        "for csv in CSVs:\n",
        "  data=pd.read_csv('ADD_YOUR_PATH'+csv)\n",
        "  for index,row in data.iterrows():\n",
        "    row['resistant']=csv.split('.')[0]#We separate each column from the CSVs\n",
        "    if row['genes'] not in og:\n",
        "      main_csv.write(str(row['resistant']) +','+ str(row['genes']) +'\\n')#We write both new columns in the new CSV\n",
        "      og.append(row['genes'])\n",
        "    else:\n",
        "      rep.append(row['genes'])\n",
        "main_csv.close()"
      ],
      "execution_count": null,
      "outputs": []
    },
    {
      "cell_type": "code",
      "metadata": {
        "id": "cFcOPOMn7Zc9"
      },
      "source": [
        "def cnn():\n",
        "  model = Sequential()\n",
        "  model.add(Embedding(64, 3, input_length=maxlen))\n",
        "  model.add(layers.Conv1D(128, 243, activation='relu'))\n",
        "  model.add(layers.MaxPooling1D(3))\n",
        "  model.add(layers.Dropout(0.5))\n",
        "  model.add(layers.Conv1D(128, 81, activation='relu'))\n",
        "  model.add(layers.Dropout(0.5))\n",
        "  model.add(layers.Conv1D(128, 27, activation='relu'))\n",
        "  model.add(layers.MaxPooling1D(3))\n",
        "  model.add(layers.Dropout(0.5))\n",
        "  model.add(layers.Conv1D(128, 9, activation='relu'))\n",
        "  model.add(layers.MaxPooling1D(3))\n",
        "  model.add(layers.Dropout(0.5))\n",
        "  model.add(layers.Bidirectional(layers.GRU(32, dropout=0.2, recurrent_dropout=0.5)))\n",
        "  model.add(Dense(3, activation='softmax'))\n",
        "  model.compile(optimizer='adam', loss='categorical_crossentropy', metrics=['acc'])\n",
        "  model.summary()\n",
        "  return(model)"
      ],
      "execution_count": null,
      "outputs": []
    },
    {
      "cell_type": "code",
      "metadata": {
        "id": "5Y1MhMtn3AEH"
      },
      "source": [
        "DataFrame=pd.read_csv('ADD_YOUR_PATH') #Here you insert the path of the CSV with all the information\n",
        "DataFrame=shuffle(DataFrame) #We shuffle the data\n",
        "# Tokenize from characters to integers (sequences and then pad / truncate data)\n",
        "DataCod = DataFrame.copy()\n",
        "Codons = list(DataCod['genes']) #Here we select only the sequences, wihtout the label\n",
        "length = []\n",
        "for n in range(len(Codons)):\n",
        "    Codons[n] = list([Codons[n][i:i+3] for i in range(0, len(Codons[n]), 3)])\n",
        "    length.append(len(Codons[n])) #We calculate the length of each sequence in codons\n",
        "    \n",
        "DataCod['codons'] = Codons\n",
        "# Tokenize from codons to integers (sequences and then pad / truncate data)\n",
        "\n",
        "maxlen = max(length) # cut off after this number of codons in a list\n",
        "max_words = 64 # Number of words in the dictionary, equal to the number of  possible codons\n",
        "max_features = max_words\n",
        "tokenizer = Tokenizer(num_words=max_words)\n",
        "tokenizer.fit_on_texts(list(DataCod['codons']))\n",
        "sequences = tokenizer.texts_to_sequences(list(DataCod['codons']))\n",
        "word_index = tokenizer.word_index\n",
        "Xpad = pad_sequences(sequences, maxlen=maxlen, padding='post', truncating='post', value=0)\n",
        "\n",
        "# This step ensures that the generated dictionary has exactly what we asked for since in some cases words that are not codons are generated\n",
        "new_dict= {'cac', 'cgt', 'aat', 'atg', 'tac', 'att', 'tgg', 'gac', 'tgc', 'act', 'gtt', 'gaa', 'aaa', 'cag', 'tga', 'ttg', 'gct', 'ttc', 'tct', 'ggc', 'aca', 'taa', 'ctg', 'ata', 'caa', 'ctt', 'tcg', 'gtc', 'aac', 'gga', 'acg', 'gca', 'tta', 'cta', 'acc', 'gat', 'tca', 'tat', 'agg', 'tgt', 'gtg', 'cga', 'cgc', 'ttt', 'aga', 'ggt', 'ctc', 'cca', 'ccg', 'gcg', 'a', 'ga', 'tag', 'atc', 'cat', 'agt', 'cgg', 'aag', 'gag', 'cct', 'gta', 'ggg', 'tcc', 'agc', 'ccc', 'gcc'}\n",
        "unwanted= set(word_index) - set(new_dict)\n",
        "for unwanted_key in unwanted: del word_index[unwanted_key]\n",
        "\n",
        "\n",
        "# Separate the label\n",
        "labels = np.asarray(DataCod['function'])\n",
        "\n",
        "training_samples = int(Xpad.shape[0] * 0.8) # This number will be used to separate between train set (80% of data) and test set (20% of data)\n",
        "\n",
        "\n",
        "indices = np.arange(Xpad.shape[0])\n",
        "np.random.shuffle(indices) \n",
        "\n",
        "Xpad = Xpad[indices]\n",
        "labels = labels[indices]\n",
        "\n",
        "print(len(labels))\n",
        "print(len(Xpad))\n",
        "x_train = np.asarray(Xpad[:training_samples])\n",
        "y_train = np.asarray(labels[:training_samples])\n",
        "x_test = np.asarray(Xpad[training_samples:])\n",
        "y_test = np.asarray(labels[training_samples:])\n",
        "\n",
        "#Labels are encoded as an an array of zeroes and ones \n",
        "encoder=LabelEncoder()\n",
        "encoder.fit(y_train)\n",
        "encoded_Y=encoder.transform(y_train)\n",
        "\n",
        "encoder1=LabelEncoder()\n",
        "encoder1.fit(y_test)\n",
        "encoded_Y1=encoder1.transform(y_test)\n",
        "y_train=np_utils.to_categorical(encoded_Y)\n",
        "y_test=np_utils.to_categorical(encoded_Y1)\n",
        "\n",
        "print('x_train', x_train.shape)\n",
        "print('y_train', y_train.shape)\n",
        "print('x_test', x_test.shape)\n",
        "print('y_test', y_test.shape)\n",
        "model = cnn()"
      ],
      "execution_count": null,
      "outputs": []
    },
    {
      "cell_type": "markdown",
      "metadata": {
        "id": "iWPb1WN9rXaM"
      },
      "source": [
        "## **Fit and save the model**\n",
        "Paths must be changed"
      ]
    },
    {
      "cell_type": "code",
      "metadata": {
        "id": "pmeMI_vG7oiY"
      },
      "source": [
        "gym = model.fit(x_train, y_train, epochs = 15, batch_size=64, validation_split=0.2)\n",
        "model.save('PATH-TO-SAVE-MODEL/FOLDER-NAME')"
      ],
      "execution_count": null,
      "outputs": []
    },
    {
      "cell_type": "markdown",
      "metadata": {
        "id": "gLLghCpSrbE9"
      },
      "source": [
        "# **Metrics calculation and predictions**\n",
        "With this cell you can input the path of the saved model and look at the confusion matrix and classification report.\n",
        "\n",
        "Credit for the function for plotting the matrix in a beatiful manner and the probability treshold decision to: \n",
        "https://www.kaggle.com/drscarlat/predict-antibiotic-resistance-w-gene-sequence/"
      ]
    },
    {
      "cell_type": "code",
      "metadata": {
        "colab": {
          "base_uri": "https://localhost:8080/",
          "height": 1000
        },
        "id": "NpCwRI_AooHI",
        "outputId": "5cf1b28f-1236-404b-fe4b-320babaed39a"
      },
      "source": [
        "model = keras.models.load_model('ADD_YOUR_PATH')\n",
        "from sklearn.metrics import confusion_matrix, classification_report\n",
        "import seaborn as sns\n",
        "def separate_metrics(matrix,cyst):\n",
        "  TP=matrix[cyst][cyst]\n",
        "  FN=sum(matrix[cyst,:])-TP\n",
        "  FP=sum(matrix[:,cyst])-TP\n",
        "  TN=sum(sum(matrix))-TP-FP-FN\n",
        "  return TP,FP,TN,FN\n",
        "  \n",
        "final_predictions = model.predict(x_test)#We use keras to predict the mechanisms of the test set, the predicitons are arrays of 3 positions with the probability to belong to each label\n",
        "evaluate=model.evaluate(x_test,y_test)# We can obtain the metrics for accuracy in the test set in a direct manner by putting the labels\n",
        "# An important step is to transform the probabilities to binary decisions (either you belong to a label or not), we used the typical treshold in literature of 0.5\n",
        "Preds = final_predictions.copy()\n",
        "Preds[ np.where( Preds >= 0.5 ) ] = 1\n",
        "Preds[ np.where( Preds < 0.5 ) ] = 0\n",
        "\n",
        "print('Metrics Report: ')\n",
        "conf_mx = classification_report(y_test, Preds)\n",
        "print(conf_mx)\n",
        "\n",
        "y_pred = [np.argmax(probas) for probas in final_predictions]\n",
        "y_test_int = np.argmax(y_test, axis=1)\n",
        "\n",
        "class_names = ['Essential','Promiscuity','Resistance','Virulence']\n",
        "\n",
        "from sklearn.metrics import confusion_matrix\n",
        "import itertools\n",
        "#Function to plot a generated confusion matrix from Alexander Scarlat, you can select the colormap, light or dark theme and the figure size\n",
        "def plot_confusion_matrix(cm, classes, title='Confusion matrix', cmap=plt.cm.Blues):\n",
        "    cm = cm.astype('float') / cm.sum(axis=1)[:, np.newaxis]\n",
        "    plt.figure(figsize=(20,20))\n",
        "    plt.imshow(cm, interpolation='nearest', cmap=cmap)\n",
        "    plt.title(title)\n",
        "    plt.colorbar()\n",
        "    tick_marks = np.arange(len(classes))\n",
        "    plt.xticks(tick_marks, classes, rotation=45)\n",
        "    plt.yticks(tick_marks, classes)\n",
        "\n",
        "    fmt = '.2f'\n",
        "    thresh = cm.max() / 2.\n",
        "    for i, j in itertools.product(range(cm.shape[0]), range(cm.shape[1])):\n",
        "        plt.text(j, i, format(cm[i, j], fmt),\n",
        "                 horizontalalignment=\"center\",\n",
        "                 color=\"white\" if cm[i, j] > thresh else \"black\")\n",
        "\n",
        "    plt.ylabel('True label')\n",
        "    plt.xlabel('Predicted label')\n",
        "  \n",
        "    \n",
        "# compute confusion matrix\n",
        "cnf_matrix = confusion_matrix(y_test_int, y_pred)\n",
        "np.set_printoptions(precision=2)\n",
        "\n",
        "# plot normalized confusion matrix\n",
        "plt.figure()\n",
        "plot_confusion_matrix(cnf_matrix, classes=class_names, title='Normalized confusion matrix')\n",
        "plt.show()\n"
      ],
      "execution_count": null,
      "outputs": [
        {
          "output_type": "stream",
          "name": "stdout",
          "text": [
            "WARNING:tensorflow:Layer gru_1 will not use cuDNN kernels since it doesn't meet the criteria. It will use a generic GPU kernel as fallback when running on GPU.\n",
            "WARNING:tensorflow:Layer gru_1 will not use cuDNN kernels since it doesn't meet the criteria. It will use a generic GPU kernel as fallback when running on GPU.\n",
            "WARNING:tensorflow:Layer gru_1 will not use cuDNN kernels since it doesn't meet the criteria. It will use a generic GPU kernel as fallback when running on GPU.\n",
            "54/54 [==============================] - 12s 208ms/step - loss: 0.2029 - acc: 0.9424\n",
            "Metrics Report: \n",
            "              precision    recall  f1-score   support\n",
            "\n",
            "           0       0.98      0.98      0.98       464\n",
            "           1       0.99      0.93      0.95       962\n",
            "           2       0.79      0.92      0.85       292\n",
            "\n",
            "   micro avg       0.94      0.94      0.94      1718\n",
            "   macro avg       0.92      0.94      0.93      1718\n",
            "weighted avg       0.95      0.94      0.94      1718\n",
            " samples avg       0.94      0.94      0.94      1718\n",
            "\n"
          ]
        },
        {
          "output_type": "stream",
          "name": "stderr",
          "text": [
            "/usr/local/lib/python3.7/dist-packages/sklearn/metrics/_classification.py:1272: UndefinedMetricWarning: Precision and F-score are ill-defined and being set to 0.0 in samples with no predicted labels. Use `zero_division` parameter to control this behavior.\n",
            "  _warn_prf(average, modifier, msg_start, len(result))\n"
          ]
        },
        {
          "output_type": "display_data",
          "data": {
            "text/plain": [
              "<Figure size 432x288 with 0 Axes>"
            ]
          },
          "metadata": {}
        },
        {
          "output_type": "display_data",
          "data": {
            "image/png": "[encoded data removed]",
            "text/plain": [
              "<Figure size 1440x1440 with 2 Axes>"
            ]
          },
          "metadata": {
            "needs_background": "light"
          }
        }
      ]
    },
    {
      "cell_type": "code",
      "metadata": {
        "id": "PJSCqHySsJm6"
      },
      "source": [
        "#Useful to count the number of sequences labelled as each one of the classes\n",
        "resistance = []\n",
        "virulence = []\n",
        "promiscuity = []\n",
        "\n",
        "\n",
        "for i in range(len(Preds)):\n",
        "  if Preds[i][2] == 1:\n",
        "    virulence.append(Xpad[i])\n",
        "  if Preds[i][1] == 1:\n",
        "    resistance.append(Xpad[i])\n",
        "  if Preds[i][0] == 1:\n",
        "    promiscuity.append(Xpad[i])\n",
        "\n",
        "\n",
        "print('Number of resistance sequences found: ' + str(len(resistance)))\n",
        "print('Number of virulence sequences found: ' + str(len(virulence)))\n",
        "print('Number of promiscuity sequences found: ' + str(len(promiscuity)))"
      ],
      "execution_count": null,
      "outputs": []
    },
    {
      "cell_type": "markdown",
      "metadata": {
        "id": "yEFzFgypdvKk"
      },
      "source": [
        "# **Main model with 4 classes**"
      ]
    },
    {
      "cell_type": "code",
      "metadata": {
        "id": "FIeVME-spA4F"
      },
      "source": [
        "def assemble_sequence(fil):\n",
        "    files= open(fil)\n",
        "    fasta_sequences = SeqIO.parse(files,'fasta')\n",
        "    name=[]\n",
        "    name1=[]\n",
        "    sequence=[]\n",
        "    for fasta in fasta_sequences:\n",
        "        name.append(fasta.id)\n",
        "        sequence.append(str(fasta.seq).lower())\n",
        "    files.close()\n",
        "    return [name,sequence]\n",
        "    \n",
        "path='ADD_YOUR_PATH'\n",
        "dd=assemble_sequence(path)"
      ],
      "execution_count": null,
      "outputs": []
    },
    {
      "cell_type": "code",
      "metadata": {
        "id": "4YEwkAofpEmN"
      },
      "source": [
        "False_class=open('ADD_YOUR_PATH','w')# Here we construct the 'Essential' CSV for sequences\n",
        "# not belonging to the other 3 classes (Resistance, Virulence, Promiscuity)\n",
        "False_class.write('resistant,genes'+'\\n')\n",
        "count=0\n",
        "for i in dd[1]:\n",
        "  if count<=3000:\n",
        "    False_class.write('False,'+ i  + '\\n')\n",
        "    count+=1\n",
        "False_class.close()"
      ],
      "execution_count": null,
      "outputs": []
    },
    {
      "cell_type": "code",
      "metadata": {
        "id": "DnSYSTwqtWqR"
      },
      "source": [
        "main_csv=open('ADD_YOUR_PATH', 'w')\n",
        "og=[]\n",
        "rep=[]\n",
        "main_csv.write('function,genes' + '\\n') #We write the header for the CSV  \n",
        "CSVs=os.listdir('ADD_YOUR_PATH') #To search every CSV in the same directory\n",
        "for csv in CSVs:\n",
        "  data=pd.read_csv('ADD_YOUR_PATH'+csv)\n",
        "  for index,row in data.iterrows():\n",
        "    row['resistant']=csv.split('.')[0]#We separate each column from the CSVs\n",
        "    if row['genes'] not in og:\n",
        "      main_csv.write(str(row['resistant']) +','+ str(row['genes']) +'\\n')#We write both new columns in the new CSV\n",
        "      og.append(row['genes'])\n",
        "    else:\n",
        "      rep.append(row['genes'])\n",
        "main_csv.close()"
      ],
      "execution_count": null,
      "outputs": []
    },
    {
      "cell_type": "code",
      "metadata": {
        "id": "3dQZxFCgtJMK"
      },
      "source": [
        "def cnn():\n",
        "  model = Sequential()\n",
        "  model.add(Embedding(64, 4, input_length=maxlen))\n",
        "  model.add(layers.Conv1D(128, 243, activation='relu'))\n",
        "  model.add(layers.MaxPooling1D(3))\n",
        "  model.add(layers.Dropout(0.5))\n",
        "  model.add(layers.Conv1D(128, 81, activation='relu'))\n",
        "  model.add(layers.Dropout(0.5))\n",
        "  model.add(layers.Conv1D(128, 27, activation='relu'))\n",
        "  model.add(layers.MaxPooling1D(3))\n",
        "  model.add(layers.Dropout(0.5))\n",
        "  model.add(layers.Conv1D(128, 9, activation='relu'))\n",
        "  model.add(layers.MaxPooling1D(3))\n",
        "  model.add(layers.Dropout(0.5))\n",
        "  model.add(layers.Bidirectional(layers.GRU(32, dropout=0.2, recurrent_dropout=0.5)))\n",
        "  model.add(Dense(4, activation='softmax'))\n",
        "  model.compile(optimizer='adam', loss='categorical_crossentropy', metrics=['acc'])\n",
        "  model.summary()\n",
        "  return(model)"
      ],
      "execution_count": null,
      "outputs": []
    },
    {
      "cell_type": "code",
      "metadata": {
        "colab": {
          "base_uri": "https://localhost:8080/"
        },
        "id": "lBwcmsjutK7W",
        "outputId": "0fe2a916-0b84-4d30-b4a3-2f030a307787"
      },
      "source": [
        "DataFrame=pd.read_csv('ADD_YOUR_PATH') #Here you insert the path of the CSV with all the information\n",
        "DataFrame=shuffle(DataFrame) #We shuffle the data\n",
        "# Tokenize from characters to integers (sequences and then pad / truncate data)\n",
        "DataCod = DataFrame.copy()\n",
        "Codons = list(DataCod['genes']) #Here we select only the sequences, wihtout the label\n",
        "length = []\n",
        "for n in range(len(Codons)):\n",
        "    Codons[n] = list([Codons[n][i:i+3] for i in range(0, len(Codons[n]), 3)])\n",
        "    length.append(len(Codons[n])) #We calculate the length of each sequence in codons\n",
        "    \n",
        "DataCod['codons'] = Codons\n",
        "# Tokenize from codons to integers (sequences and then pad / truncate data)\n",
        "\n",
        "maxlen = max(length) # cut off after this number of codons in a list\n",
        "max_words = 64 # Number of words in the dictionary, equal to the number of  possible codons\n",
        "max_features = max_words\n",
        "tokenizer = Tokenizer(num_words=max_words)\n",
        "tokenizer.fit_on_texts(list(DataCod['codons']))\n",
        "sequences = tokenizer.texts_to_sequences(list(DataCod['codons']))\n",
        "word_index = tokenizer.word_index\n",
        "Xpad = pad_sequences(sequences, maxlen=maxlen, padding='post', truncating='post', value=0)\n",
        "\n",
        "# This step ensures that the generated dictionary has exactly what we asked for since in some cases words that are not codons are generated\n",
        "new_dict= {'cac', 'cgt', 'aat', 'atg', 'tac', 'att', 'tgg', 'gac', 'tgc', 'act', 'gtt', 'gaa', 'aaa', 'cag', 'tga', 'ttg', 'gct', 'ttc', 'tct', 'ggc', 'aca', 'taa', 'ctg', 'ata', 'caa', 'ctt', 'tcg', 'gtc', 'aac', 'gga', 'acg', 'gca', 'tta', 'cta', 'acc', 'gat', 'tca', 'tat', 'agg', 'tgt', 'gtg', 'cga', 'cgc', 'ttt', 'aga', 'ggt', 'ctc', 'cca', 'ccg', 'gcg', 'a', 'ga', 'tag', 'atc', 'cat', 'agt', 'cgg', 'aag', 'gag', 'cct', 'gta', 'ggg', 'tcc', 'agc', 'ccc', 'gcc'}\n",
        "unwanted= set(word_index) - set(new_dict)\n",
        "for unwanted_key in unwanted: del word_index[unwanted_key]\n",
        "\n",
        "\n",
        "# Separate the label\n",
        "labels = np.asarray(DataCod['function'])\n",
        "\n",
        "training_samples = int(Xpad.shape[0] * 0.8) # This number will be used to separate between train set (80% of data) and test set (20% of data)\n",
        "\n",
        "\n",
        "indices = np.arange(Xpad.shape[0])\n",
        "np.random.shuffle(indices) \n",
        "\n",
        "Xpad = Xpad[indices]\n",
        "labels = labels[indices]\n",
        "\n",
        "print(len(labels))\n",
        "print(len(Xpad))\n",
        "x_train = np.asarray(Xpad[:training_samples])\n",
        "y_train = np.asarray(labels[:training_samples])\n",
        "x_test = np.asarray(Xpad[training_samples:])\n",
        "y_test = np.asarray(labels[training_samples:])\n",
        "\n",
        "#Labels are encoded as an an array of zeroes and ones \n",
        "encoder=LabelEncoder()\n",
        "encoder.fit(y_train)\n",
        "encoded_Y=encoder.transform(y_train)\n",
        "\n",
        "encoder1=LabelEncoder()\n",
        "encoder1.fit(y_test)\n",
        "encoded_Y1=encoder1.transform(y_test)\n",
        "y_train=np_utils.to_categorical(encoded_Y)\n",
        "y_test=np_utils.to_categorical(encoded_Y1)\n",
        "\n",
        "print('x_train', x_train.shape)\n",
        "print('y_train', y_train.shape)\n",
        "print('x_test', x_test.shape)\n",
        "print('y_test', y_test.shape)\n",
        "model = cnn()"
      ],
      "execution_count": null,
      "outputs": [
        {
          "output_type": "stream",
          "name": "stdout",
          "text": [
            "11553\n",
            "11553\n",
            "x_train (9242, 7680)\n",
            "y_train (9242, 4)\n",
            "x_test (2311, 7680)\n",
            "y_test (2311, 4)\n",
            "WARNING:tensorflow:Layer gru will not use cuDNN kernels since it doesn't meet the criteria. It will use a generic GPU kernel as fallback when running on GPU.\n",
            "WARNING:tensorflow:Layer gru will not use cuDNN kernels since it doesn't meet the criteria. It will use a generic GPU kernel as fallback when running on GPU.\n",
            "WARNING:tensorflow:Layer gru will not use cuDNN kernels since it doesn't meet the criteria. It will use a generic GPU kernel as fallback when running on GPU.\n",
            "Model: \"sequential\"\n",
            "_________________________________________________________________\n",
            "Layer (type)                 Output Shape              Param #   \n",
            "=================================================================\n",
            "embedding (Embedding)        (None, 7680, 4)           256       \n",
            "_________________________________________________________________\n",
            "conv1d (Conv1D)              (None, 7438, 128)         124544    \n",
            "_________________________________________________________________\n",
            "max_pooling1d (MaxPooling1D) (None, 2479, 128)         0         \n",
            "_________________________________________________________________\n",
            "dropout (Dropout)            (None, 2479, 128)         0         \n",
            "_________________________________________________________________\n",
            "conv1d_1 (Conv1D)            (None, 2399, 128)         1327232   \n",
            "_________________________________________________________________\n",
            "dropout_1 (Dropout)          (None, 2399, 128)         0         \n",
            "_________________________________________________________________\n",
            "conv1d_2 (Conv1D)            (None, 2373, 128)         442496    \n",
            "_________________________________________________________________\n",
            "max_pooling1d_1 (MaxPooling1 (None, 791, 128)          0         \n",
            "_________________________________________________________________\n",
            "dropout_2 (Dropout)          (None, 791, 128)          0         \n",
            "_________________________________________________________________\n",
            "conv1d_3 (Conv1D)            (None, 783, 128)          147584    \n",
            "_________________________________________________________________\n",
            "max_pooling1d_2 (MaxPooling1 (None, 261, 128)          0         \n",
            "_________________________________________________________________\n",
            "dropout_3 (Dropout)          (None, 261, 128)          0         \n",
            "_________________________________________________________________\n",
            "bidirectional (Bidirectional (None, 64)                31104     \n",
            "_________________________________________________________________\n",
            "dense (Dense)                (None, 4)                 260       \n",
            "=================================================================\n",
            "Total params: 2,073,476\n",
            "Trainable params: 2,073,476\n",
            "Non-trainable params: 0\n",
            "_________________________________________________________________\n"
          ]
        }
      ]
    },
    {
      "cell_type": "code",
      "metadata": {
        "id": "BX99qEaeuhni"
      },
      "source": [
        "gym = model.fit(x_train, y_train, epochs = 15, batch_size=64, validation_split=0.2)\n",
        "model.save('ADD_YOUR_PATH')"
      ],
      "execution_count": null,
      "outputs": []
    },
    {
      "cell_type": "code",
      "metadata": {
        "colab": {
          "base_uri": "https://localhost:8080/",
          "height": 1000
        },
        "id": "p1-sshvbvN0M",
        "outputId": "c5a1464e-744b-4206-ebbb-f62f2d7033b9"
      },
      "source": [
        "model = keras.models.load_model('ADD_YOUR_PATH')\n",
        "from sklearn.metrics import confusion_matrix, classification_report\n",
        "import seaborn as sns\n",
        "def separate_metrics(matrix,cyst):\n",
        "  TP=matrix[cyst][cyst]\n",
        "  FN=sum(matrix[cyst,:])-TP\n",
        "  FP=sum(matrix[:,cyst])-TP\n",
        "  TN=sum(sum(matrix))-TP-FP-FN\n",
        "  return TP,FP,TN,FN\n",
        "  \n",
        "final_predictions = model.predict(x_test)#We use keras to predict the mechanisms of the test set, the predicitons are arrays of 3 positions with the probability to belong to each label\n",
        "evaluate=model.evaluate(x_test,y_test)# We can obtain the metrics for accuracy in the test set in a direct manner by putting the labels\n",
        "# An important step is to transform the probabilities to binary decisions (either you belong to a label or not), we used the typical treshold in literature of 0.5\n",
        "Preds = final_predictions.copy()\n",
        "Preds[ np.where( Preds >= 0.5 ) ] = 1\n",
        "Preds[ np.where( Preds < 0.5 ) ] = 0\n",
        "\n",
        "print('Metrics Report: ')\n",
        "conf_mx = classification_report(y_test, Preds)\n",
        "print(conf_mx)\n",
        "\n",
        "y_pred = [np.argmax(probas) for probas in final_predictions]\n",
        "y_test_int = np.argmax(y_test, axis=1)\n",
        "\n",
        "class_names = ['Essential','Promiscuity','Resistance','Virulence']\n",
        "\n",
        "from sklearn.metrics import confusion_matrix\n",
        "import itertools\n",
        "#Function to plot a generated confusion matrix from Alexander Scarlat, you can select the colormap, light or dark theme and the figure size\n",
        "def plot_confusion_matrix(cm, classes, title='Confusion matrix', cmap=plt.cm.Blues):\n",
        "    cm = cm.astype('float') / cm.sum(axis=1)[:, np.newaxis]\n",
        "    plt.figure(figsize=(20,20))\n",
        "    plt.imshow(cm, interpolation='nearest', cmap=cmap)\n",
        "    plt.title(title)\n",
        "    plt.colorbar()\n",
        "    tick_marks = np.arange(len(classes))\n",
        "    plt.xticks(tick_marks, classes, rotation=45)\n",
        "    plt.yticks(tick_marks, classes)\n",
        "\n",
        "    fmt = '.2f'\n",
        "    thresh = cm.max() / 2.\n",
        "    for i, j in itertools.product(range(cm.shape[0]), range(cm.shape[1])):\n",
        "        plt.text(j, i, format(cm[i, j], fmt),\n",
        "                 horizontalalignment=\"center\",\n",
        "                 color=\"white\" if cm[i, j] > thresh else \"black\")\n",
        "\n",
        "    plt.ylabel('True label')\n",
        "    plt.xlabel('Predicted label')\n",
        "  \n",
        "    \n",
        "# compute confusion matrix\n",
        "cnf_matrix = confusion_matrix(y_test_int, y_pred)\n",
        "np.set_printoptions(precision=2)\n",
        "\n",
        "# plot normalized confusion matrix\n",
        "plt.figure()\n",
        "plot_confusion_matrix(cnf_matrix, classes=class_names, title='Normalized confusion matrix')\n",
        "plt.show()\n"
      ],
      "execution_count": null,
      "outputs": [
        {
          "output_type": "stream",
          "name": "stdout",
          "text": [
            "WARNING:tensorflow:Layer gru will not use cuDNN kernels since it doesn't meet the criteria. It will use a generic GPU kernel as fallback when running on GPU.\n",
            "WARNING:tensorflow:Layer gru will not use cuDNN kernels since it doesn't meet the criteria. It will use a generic GPU kernel as fallback when running on GPU.\n",
            "WARNING:tensorflow:Layer gru will not use cuDNN kernels since it doesn't meet the criteria. It will use a generic GPU kernel as fallback when running on GPU.\n",
            "73/73 [==============================] - 17s 226ms/step - loss: 0.3994 - acc: 0.8819\n",
            "Metrics Report: \n",
            "              precision    recall  f1-score   support\n",
            "\n",
            "           0       0.86      0.84      0.85       601\n",
            "           1       0.94      0.98      0.96       459\n",
            "           2       0.93      0.96      0.94       953\n",
            "           3       0.66      0.52      0.58       298\n",
            "\n",
            "   micro avg       0.89      0.88      0.88      2311\n",
            "   macro avg       0.85      0.83      0.84      2311\n",
            "weighted avg       0.88      0.88      0.88      2311\n",
            " samples avg       0.88      0.88      0.88      2311\n",
            "\n"
          ]
        },
        {
          "output_type": "stream",
          "name": "stderr",
          "text": [
            "/usr/local/lib/python3.7/dist-packages/sklearn/metrics/_classification.py:1272: UndefinedMetricWarning: Precision and F-score are ill-defined and being set to 0.0 in samples with no predicted labels. Use `zero_division` parameter to control this behavior.\n",
            "  _warn_prf(average, modifier, msg_start, len(result))\n"
          ]
        },
        {
          "output_type": "display_data",
          "data": {
            "text/plain": [
              "<Figure size 432x288 with 0 Axes>"
            ]
          },
          "metadata": {}
        },
        {
          "output_type": "display_data",
          "data": {
            "image/png": "[encoded data removed]",
            "text/plain": [
              "<Figure size 1440x1440 with 2 Axes>"
            ]
          },
          "metadata": {
            "needs_background": "light"
          }
        }
      ]
    }
  ]
}