{
  "nbformat": 4,
  "nbformat_minor": 0,
  "metadata": {
    "colab": {
      "name": "virulence_github.ipynb",
      "provenance": [],
      "collapsed_sections": []
    },
    "kernelspec": {
      "name": "python3",
      "display_name": "Python 3"
    },
    "language_info": {
      "name": "python"
    }
  },
  "cells": [
    {
      "cell_type": "markdown",
      "metadata": {
        "id": "lqkNbsvdZU9q"
      },
      "source": [
        "# Virulence Classifier "
      ]
    },
    {
      "cell_type": "markdown",
      "metadata": {
        "id": "tho7372jZglT"
      },
      "source": [
        "This notebook allows the construction, training and evaluation of the virulence classifier. "
      ]
    },
    {
      "cell_type": "markdown",
      "metadata": {
        "id": "eE02J1RwgQ_-"
      },
      "source": [
        "## **Import Necessary Modules**\n"
      ]
    },
    {
      "cell_type": "code",
      "metadata": {
        "id": "IakziL5PgCOb",
        "colab": {
          "base_uri": "https://localhost:8080/"
        },
        "outputId": "d983d429-34c2-4dad-afe1-78a5b2e2ff11"
      },
      "source": [
        "from google.colab import drive\n",
        "drive.mount('/content/drive')"
      ],
      "execution_count": null,
      "outputs": [
        {
          "output_type": "stream",
          "name": "stdout",
          "text": [
            "Mounted at /content/drive\n"
          ]
        }
      ]
    },
    {
      "cell_type": "code",
      "metadata": {
        "id": "eZIBULUfgXqM",
        "colab": {
          "base_uri": "https://localhost:8080/"
        },
        "outputId": "6bcafc6c-f76c-4dd0-ae6a-e8040ae886bc"
      },
      "source": [
        "pip install biopython"
      ],
      "execution_count": null,
      "outputs": [
        {
          "output_type": "stream",
          "name": "stdout",
          "text": [
            "Collecting biopython\n",
            "  Downloading biopython-1.79-cp37-cp37m-manylinux_2_5_x86_64.manylinux1_x86_64.whl (2.3 MB)\n",
            "\u001b[K     |████████████████████████████████| 2.3 MB 5.2 MB/s \n",
            "\u001b[?25hRequirement already satisfied: numpy in /usr/local/lib/python3.7/dist-packages (from biopython) (1.19.5)\n",
            "Installing collected packages: biopython\n",
            "Successfully installed biopython-1.79\n"
          ]
        }
      ]
    },
    {
      "cell_type": "code",
      "metadata": {
        "id": "CE-XvpC2gc61"
      },
      "source": [
        "import os\n",
        "import keras\n",
        "import numpy as np\n",
        "from Bio import SeqIO  \n",
        "import pandas as pd \n",
        "import matplotlib.pyplot as plt\n",
        "%matplotlib inline\n",
        "from sklearn.cluster import KMeans\n",
        "from keras.utils import np_utils\n",
        "from keras.models import Sequential\n",
        "from keras.layers import Flatten, Dense, Dropout, Embedding, LSTM\n",
        "from keras import regularizers, layers, preprocessing\n",
        "from sklearn.metrics import confusion_matrix, precision_score, recall_score, accuracy_score, f1_score\n",
        "from sklearn.metrics import roc_auc_score, roc_curve, precision_recall_curve, average_precision_score\n",
        "from keras.preprocessing.text import Tokenizer\n",
        "from keras.preprocessing.sequence import pad_sequences\n",
        "from Bio.Seq import Seq\n",
        "from sklearn.preprocessing import LabelEncoder\n",
        "import tensorflow as tf\n",
        "from sklearn.utils import shuffle\n",
        "from sklearn.metrics import confusion_matrix\n",
        "import itertools\n",
        "from sklearn.metrics import confusion_matrix, classification_report\n",
        "import seaborn as sns"
      ],
      "execution_count": null,
      "outputs": []
    },
    {
      "cell_type": "markdown",
      "metadata": {
        "id": "GUPeZhS7hYz8"
      },
      "source": [
        "## **CNN architecture and data preprocessing**\n",
        "Credit to: https://www.kaggle.com/drscarlat/predict-antibiotic-resistance-w-gene-sequence/"
      ]
    },
    {
      "cell_type": "code",
      "metadata": {
        "id": "_NE-KdVJg5DV"
      },
      "source": [
        "def cnn():\n",
        "  model = Sequential()\n",
        "  model.add(Embedding(64, 2, input_length=maxlen))\n",
        "  model.add(layers.Conv1D(128, 243, activation='relu'))\n",
        "  model.add(layers.MaxPooling1D(3))\n",
        "  model.add(layers.Dropout(0.5))\n",
        "  model.add(layers.Conv1D(128, 81, activation='relu'))\n",
        "  model.add(layers.Dropout(0.5))\n",
        "  model.add(layers.Conv1D(128, 27, activation='relu'))\n",
        "  model.add(layers.MaxPooling1D(3))\n",
        "  model.add(layers.Dropout(0.5))\n",
        "  model.add(layers.Conv1D(128, 9, activation='relu'))\n",
        "  model.add(layers.MaxPooling1D(3))\n",
        "  model.add(layers.Dropout(0.5))\n",
        "  model.add(layers.Bidirectional(layers.GRU(32, dropout=0.2, recurrent_dropout=0.5)))\n",
        "  model.add(Dense(2, activation='softmax'))\n",
        "  model.compile(optimizer='adam', loss='categorical_crossentropy', metrics=['acc'])\n",
        "  model.summary()\n",
        "  return(model)"
      ],
      "execution_count": null,
      "outputs": []
    },
    {
      "cell_type": "code",
      "metadata": {
        "id": "AS-cSy3Qhr3u"
      },
      "source": [
        "Dataframe = pd.read_csv('ADD_YOUR_PATH_HERE!') #Reading the generated CSV. Add the path of your CSV here.\n",
        "Dataframe = shuffle(Dataframe) #The shuffle is necessary to ensure that all antibiotic types are included in the test set afterwards\n",
        "\n",
        "#Process of conversion from aminoacid sequence to codon sequence\n",
        "Datacodons = Dataframe.copy()\n",
        "\n",
        "Codons = list(Datacodons['genes'])\n",
        "\n",
        "length = []\n",
        "for n in range(len(Codons)):\n",
        "    Codons[n] = list([Codons[n][i:i+3] for i in range(0, len(Codons[n]), 3)])\n",
        "    length.append(len(Codons[n]))\n",
        "    \n",
        "Datacodons['codons'] = Codons\n",
        "\n",
        "#The maximum length will be used for the padding of sequences\n",
        "maxlen = max(length) \n",
        "\n",
        "max_words = 64 # Number of words in the dictionary, equal to the number of  possible codons\n",
        "max_features = max_words\n",
        "\n",
        "tokenizer = Tokenizer(num_words=max_words)\n",
        "tokenizer.fit_on_texts(list(Datacodons['codons']))\n",
        "sequences = tokenizer.texts_to_sequences(list(Datacodons['codons']))\n",
        "word_index = tokenizer.word_index\n",
        "Pad_input = pad_sequences(sequences, maxlen=maxlen, padding='post', truncating='post', value=0)\n",
        "\n",
        "# This step ensures that the generated dictionary has exactly what we asked for since in some cases words that are not codons are generated\n",
        "new_dict= {'cac', 'cgt', 'aat', 'atg', 'tac', 'att', 'tgg', 'gac', 'tgc', 'act', 'gtt', 'gaa', 'aaa', 'cag', 'tga', 'ttg', 'gct', 'ttc', 'tct', 'ggc', 'aca', 'taa', 'ctg', 'ata', 'caa', 'ctt', 'tcg', 'gtc', 'aac', 'gga', 'acg', 'gca', 'tta', 'cta', 'acc', 'gat', 'tca', 'tat', 'agg', 'tgt', 'gtg', 'cga', 'cgc', 'ttt', 'aga', 'ggt', 'ctc', 'cca', 'ccg', 'gcg', 'a', 'ga', 'tag', 'atc', 'cat', 'agt', 'cgg', 'aag', 'gag', 'cct', 'gta', 'ggg', 'tcc', 'agc', 'ccc', 'gcc'}\n",
        "unwanted= set(word_index) - set(new_dict)\n",
        "for unwanted_key in unwanted: del word_index[unwanted_key]\n",
        "\n",
        "labels = np.asarray(Datacodons['class'])\n",
        "\n",
        "training_samples = int(Pad_input.shape[0] * 0.8) # This number will be used to separate between train set (80% of data) and test set (20% of data)\n",
        "\n",
        "\n",
        "indices = np.arange(Pad_input.shape[0])\n",
        "\n",
        "Xpad = Pad_input[indices]\n",
        "labels = labels[indices]\n",
        "\n",
        "\n",
        "x_train = np.asarray(Pad_input[:training_samples])\n",
        "y_train = np.asarray(labels[:training_samples])\n",
        "x_test = np.asarray(Pad_input[training_samples:])\n",
        "y_test = np.asarray(labels[training_samples:])\n",
        "\n",
        "encoder=LabelEncoder()\n",
        "encoder.fit(y_train)\n",
        "encoded_Y=encoder.transform(y_train)\n",
        "\n",
        "encoder1=LabelEncoder()\n",
        "encoder1.fit(y_test)\n",
        "encoded_Y1=encoder1.transform(y_test)\n",
        "y=np_utils.to_categorical(encoded_Y)\n",
        "y_test=np_utils.to_categorical(encoded_Y1)\n",
        "\n",
        "\n",
        "model = cnn()"
      ],
      "execution_count": null,
      "outputs": []
    },
    {
      "cell_type": "markdown",
      "metadata": {
        "id": "s8AgCsDkTOxO"
      },
      "source": [
        "## Fit and save the model"
      ]
    },
    {
      "cell_type": "code",
      "metadata": {
        "id": "7CnSgjO7TSCX"
      },
      "source": [
        "gym = model.fit(x_train, y_train, epochs = 15, batch_size=16, validation_split=0.2)"
      ],
      "execution_count": null,
      "outputs": []
    },
    {
      "cell_type": "code",
      "metadata": {
        "id": "feBhGVHNTTu_"
      },
      "source": [
        "model.save('ADD_YOUR_PATH_HERE!') # Indicate the path where the model will be saved"
      ],
      "execution_count": null,
      "outputs": []
    },
    {
      "cell_type": "markdown",
      "metadata": {
        "id": "6fJaV32KTmBL"
      },
      "source": [
        "## Metrics calculation and first prediction, individual labels"
      ]
    },
    {
      "cell_type": "markdown",
      "metadata": {
        "id": "7v-VV2wBTs0Y"
      },
      "source": [
        "With this cell you can input the path of the saved model and look at the confusion matrix and classification report for resistance mechanisms only. This will display a total of 9 matrices.\n",
        "\n",
        "Credit for the function for plotting the matrix in a beatiful manner and the probability treshold decision to: https://www.kaggle.com/drscarlat/predict-antibiotic-resistance-w-gene-sequence/"
      ]
    },
    {
      "cell_type": "code",
      "metadata": {
        "colab": {
          "base_uri": "https://localhost:8080/",
          "height": 1000
        },
        "id": "ntGt9KFzTqaH",
        "outputId": "0015af3c-a4f3-4f3d-d79c-0ecb060fcc67"
      },
      "source": [
        "model = keras.models.load_model('ADD_YOUR_PATH_HERE!')  # Add the path where the model has been saved\n",
        "\n",
        "def separate_metrics(matrix,cyst):\n",
        "  TP=matrix[cyst][cyst]\n",
        "  FN=sum(matrix[cyst,:])-TP\n",
        "  FP=sum(matrix[:,cyst])-TP\n",
        "  TN=sum(sum(matrix))-TP-FP-FN\n",
        "  return TP,FP,TN,FN\n",
        "  \n",
        "final_predictions = model.predict(x_test)  # We use keras to predict the mechanisms of the test set, the predicitons are arrays of 2 positions with the probability to belong to each label\n",
        "evaluate=model.evaluate(x_test,y_test) # We can obtain the metrics for accuracy in the test set in a direct manner by putting the labels\n",
        "# Important! Transform the probabilities to binary decisions (either you belong to a label or not), we used the typical treshold in literature of 0.5\n",
        "Preds = final_predictions.copy()\n",
        "Preds[ np.where( Preds >= 0.5 ) ] = 1\n",
        "Preds[ np.where( Preds < 0.5 ) ] = 0\n",
        "\n",
        "#Since both the predictions and the labels are in binary format, we can use SKLearn to plot a report of metrics for our predicitons\n",
        "print('Metrics Report: ')\n",
        "report = classification_report(y_test, Preds)\n",
        "print(report)\n",
        "\n",
        "y_pred = [np.argmax(output) for output in final_predictions]\n",
        "y_test_int = np.argmax(y_test, axis=1)\n",
        "\n",
        "class_names = ['Adhesion','Toxin']\n",
        "\n",
        "#Function to plot a generated confusion matrix from Alexander Scarlat, you can select the colormap, light or dark theme and the figure size\n",
        "def plot_confusion_matrix(cm, classes, title='Confusion matrix', cmap=plt.cm.Blues):\n",
        "    cm = cm.astype('float') / cm.sum(axis=1)[:, np.newaxis]\n",
        "    plt.figure(figsize=(15,15))\n",
        "    plt.imshow(cm, interpolation='nearest', cmap=cmap)\n",
        "    plt.title(title)\n",
        "    plt.colorbar()\n",
        "    tick_marks = np.arange(len(classes))\n",
        "    plt.xticks(tick_marks, classes, rotation=45)\n",
        "    plt.yticks(tick_marks, classes)\n",
        "\n",
        "    fmt = '.2f'\n",
        "    thresh = cm.max() / 2.\n",
        "    for i, j in itertools.product(range(cm.shape[0]), range(cm.shape[1])):\n",
        "        plt.text(j, i, format(cm[i, j], fmt),\n",
        "                 horizontalalignment=\"center\",\n",
        "                 color=\"white\" if cm[i, j] > thresh else \"black\")\n",
        "\n",
        "    plt.ylabel('True label')\n",
        "    plt.xlabel('Predicted label')\n",
        "  \n",
        "    \n",
        "# we compute the confusion matrix\n",
        "cnf_matrix = confusion_matrix(y_test_int, y_pred)\n",
        "np.set_printoptions(precision=2)\n",
        "\n",
        "# we plot normalized confusion matrix\n",
        "plt.figure()\n",
        "plot_confusion_matrix(cnf_matrix, classes=class_names, title='Normalized confusion matrix')\n",
        "plt.show()"
      ],
      "execution_count": null,
      "outputs": [
        {
          "output_type": "stream",
          "name": "stdout",
          "text": [
            "11/11 [==============================] - 55s 5s/step - loss: 0.5198 - acc: 0.8064\n",
            "Metrics Report: \n",
            "              precision    recall  f1-score   support\n",
            "\n",
            "           0       0.77      0.90      0.83       178\n",
            "           1       0.87      0.71      0.78       168\n",
            "\n",
            "   micro avg       0.81      0.81      0.81       346\n",
            "   macro avg       0.82      0.80      0.80       346\n",
            "weighted avg       0.82      0.81      0.80       346\n",
            " samples avg       0.81      0.81      0.81       346\n",
            "\n"
          ]
        },
        {
          "output_type": "display_data",
          "data": {
            "text/plain": [
              "<Figure size 432x288 with 0 Axes>"
            ]
          },
          "metadata": {}
        },
        {
          "output_type": "display_data",
          "data": {
            "image/png": "[encoded data removed]",
            "text/plain": [
              "<Figure size 1080x1080 with 2 Axes>"
            ]
          },
          "metadata": {
            "needs_background": "light"
          }
        }
      ]
    }
  ]
}