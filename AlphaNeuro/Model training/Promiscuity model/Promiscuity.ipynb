{
  "nbformat": 4,
  "nbformat_minor": 0,
  "metadata": {
    "colab": {
      "name": "Promiscuity_GitHub",
      "provenance": [],
      "collapsed_sections": []
    },
    "kernelspec": {
      "display_name": "Python 3",
      "name": "python3"
    },
    "language_info": {
      "name": "python"
    },
    "accelerator": "GPU"
  },
  "cells": [
    {
      "cell_type": "markdown",
      "metadata": {
        "id": "uwik4yk2ZePK"
      },
      "source": [
        "# Promiscuity mechanisms classifier"
      ]
    },
    {
      "cell_type": "markdown",
      "metadata": {
        "id": "OZ2fR6ZGZj8n"
      },
      "source": [
        "This notebook allows the construction, training and evaluation of the Promiscuity classifier"
      ]
    },
    {
      "cell_type": "markdown",
      "metadata": {
        "id": "Mqb3JAtv9iMm"
      },
      "source": [
        "## **Import Necessary Modules**\n",
        "\n",
        "---\n",
        "\n"
      ]
    },
    {
      "cell_type": "code",
      "metadata": {
        "colab": {
          "base_uri": "https://localhost:8080/"
        },
        "id": "K8rCW1DR49fV",
        "outputId": "912dd1dc-d784-468e-f88b-84de070904df"
      },
      "source": [
        "from google.colab import drive\n",
        "drive.mount('/content/drive')"
      ],
      "execution_count": 1,
      "outputs": [
        {
          "output_type": "stream",
          "name": "stdout",
          "text": [
            "Mounted at /content/drive\n"
          ]
        }
      ]
    },
    {
      "cell_type": "code",
      "metadata": {
        "colab": {
          "base_uri": "https://localhost:8080/"
        },
        "id": "j5dm-w5jJGuK",
        "outputId": "92b78999-8dc8-4fbf-847f-afc4b891b3d9"
      },
      "source": [
        "pip install biopython"
      ],
      "execution_count": 2,
      "outputs": [
        {
          "output_type": "stream",
          "name": "stdout",
          "text": [
            "Collecting biopython\n",
            "  Downloading biopython-1.79-cp37-cp37m-manylinux_2_5_x86_64.manylinux1_x86_64.whl (2.3 MB)\n",
            "\u001b[K     |████████████████████████████████| 2.3 MB 5.4 MB/s \n",
            "\u001b[?25hRequirement already satisfied: numpy in /usr/local/lib/python3.7/dist-packages (from biopython) (1.19.5)\n",
            "Installing collected packages: biopython\n",
            "Successfully installed biopython-1.79\n"
          ]
        }
      ]
    },
    {
      "cell_type": "code",
      "metadata": {
        "id": "HVSjJAMBL-kq"
      },
      "source": [
        "import os\n",
        "import keras\n",
        "import numpy as np\n",
        "from Bio import SeqIO  \n",
        "import pandas as pd \n",
        "import matplotlib.pyplot as plt\n",
        "%matplotlib inline\n",
        "\n",
        "from keras.utils import np_utils\n",
        "from keras.models import Sequential\n",
        "from keras.layers import Flatten, Dense, Dropout, Embedding, LSTM\n",
        "from keras import regularizers, layers, preprocessing\n",
        "from sklearn.metrics import confusion_matrix, precision_score, recall_score, accuracy_score, f1_score\n",
        "from sklearn.metrics import roc_auc_score, roc_curve, precision_recall_curve, average_precision_score\n",
        "\n",
        "from sklearn.preprocessing import LabelEncoder\n",
        "from keras.preprocessing.text import Tokenizer\n",
        "from keras.preprocessing.sequence import pad_sequences\n",
        "\n",
        "import tensorflow as tf\n"
      ],
      "execution_count": 3,
      "outputs": []
    },
    {
      "cell_type": "markdown",
      "metadata": {
        "id": "Ko9SwCgq-92x"
      },
      "source": [
        "## **Dictionary definition**"
      ]
    },
    {
      "cell_type": "code",
      "metadata": {
        "id": "XN3VfzNe_DxN"
      },
      "source": [
        "d = {\n",
        "    'A': ['GCA', 'GCC', 'GCG', 'GCT'],\n",
        "    'C': ['TGC', 'TGT'],\n",
        "    'D': ['GAC', 'GAT'],\n",
        "    'E': ['GAA', 'GAG'],\n",
        "    'F': ['TTC', 'TTT'],\n",
        "    'G': ['GGA', 'GGC', 'GGG', 'GGT'],\n",
        "    'H': ['CAC', 'CAT'],\n",
        "    'I': ['ATA', 'ATC', 'ATT'],\n",
        "    'K': ['AAA', 'AAG'],\n",
        "    'L': ['CTA', 'CTC', 'CTG', 'CTT', 'TTA', 'TTG'],\n",
        "    'M': ['ATG'],\n",
        "    'N': ['AAC', 'AAT'],\n",
        "    'P': ['CCA', 'CCC', 'CCG', 'CCT'],\n",
        "    'Q': ['CAA', 'CAG'],\n",
        "    'R': ['AGA', 'AGG', 'CGA', 'CGC', 'CGG', 'CGT'],\n",
        "    'S': ['AGC', 'AGT', 'TCA', 'TCC', 'TCG', 'TCT'],\n",
        "    'T': ['ACA', 'ACC', 'ACG', 'ACT'],\n",
        "    'V': ['GTA', 'GTC', 'GTG', 'GTT'],\n",
        "    'W': ['TGG'],\n",
        "    'Y': ['TAC', 'TAT'],\n",
        "    '_': ['TAA', 'TAG', 'TGA'],\n",
        "}"
      ],
      "execution_count": 4,
      "outputs": []
    },
    {
      "cell_type": "markdown",
      "metadata": {
        "id": "4_UOpxsJrUTR"
      },
      "source": [
        "## **Generation of Promiscuity CSVs**\n"
      ]
    },
    {
      "cell_type": "markdown",
      "metadata": {
        "id": "M0MP2seD_gXt"
      },
      "source": [
        "Since the data we downloaded was coded in proteins, the step of reverse translating it into codons has to be performed. To do so, using the table of translation, each protein can be transformed into a codon, with each probability depending on the amount of codons coding for that same protein."
      ]
    },
    {
      "cell_type": "code",
      "metadata": {
        "id": "BsGr-av_Hhgn"
      },
      "source": [
        "def assemble_sequence(fil): #Function employed to read the .fasta files and extract the useful information\n",
        "    files= open(fil)\n",
        "    fasta_sequences = SeqIO.parse(files,'fasta')\n",
        "    name=[]\n",
        "    name1=[]\n",
        "    sequence=[]\n",
        "    for fasta in fasta_sequences:\n",
        "        name.append(fasta.id.split(\"|\")[5])\n",
        "        sequence.append(str(fasta.seq))\n",
        "    files.close()\n",
        "    return [name,sequence]\n",
        "    \n",
        "path='/content/drive/Shareddrives/iGEM/alexandria/CARD/PROMISCUITY/ICE_aa_all.fas.txt'\n",
        "dd=assemble_sequence(path) #Generate a list with two lists in it with the different names and sequences\n",
        "id=[]\n",
        "for i in range(len(dd[0])):\n",
        "  dd[0][i]=dd[0][i].lower()\n",
        "for i in dd[0]:\n",
        "  ct = 0\n",
        "  ct2 = 0\n",
        "  pos1 = i.find('[')\n",
        "  pos2 = i.find(']')\n",
        "  name = ''\n",
        "  for j in range(0,pos1):\n",
        "    name+=i[j]\n",
        "  id.append(name)\n",
        "names=[]\n",
        "genes=[]\n",
        "material=[]\n",
        "\n",
        "def List2String(list): #Function employed for the elimination of spaces in the reverse translated sequence\n",
        "  space=''\n",
        "  for element in list:\n",
        "    space+=element\n",
        "  return space\n",
        "total=[]\n",
        "#The reverse translation is performed using probabilities, hence depending on the amount of codons\n",
        "#that can code for one protein\n",
        "for i in dd[1]:\n",
        "  lista=[]\n",
        "  for k in i:\n",
        "    if k in d.keys():\n",
        "      a=d[k]\n",
        "      b=np.random.randint(100)\n",
        "      if len(a)==1:\n",
        "        k=a\n",
        "      if len(a)==2:\n",
        "        if b<=50:\n",
        "          k=a[0]\n",
        "        elif b>50:\n",
        "          k=a[1]\n",
        "      if len(a)==3:\n",
        "        if b<=33:\n",
        "          k=a[0]\n",
        "        elif b>33 and b<67:\n",
        "          k=a[1]\n",
        "        elif b>=67:\n",
        "          k=a[2]\n",
        "      if len(a)==4:\n",
        "        if b<=25:\n",
        "          k=a[0]\n",
        "        elif b>25 and b<=50:\n",
        "          k=a[1]\n",
        "        elif b>50 and b<=75:\n",
        "          k=a[2] \n",
        "        elif b>75:\n",
        "          k=a[3]\n",
        "      if len(a)==5:\n",
        "        if b<=20:\n",
        "          k=a[0]\n",
        "        elif b>20 and b<=40:\n",
        "          k=a[1]\n",
        "        elif b>40 and b<=60:\n",
        "          k=a[2] \n",
        "        elif b>60 and b<=80:\n",
        "          k=a[3]\n",
        "        elif b>80:\n",
        "          k=a[4]\n",
        "      if len(a)==6:\n",
        "        if b<=100//6:\n",
        "          k=a[0]\n",
        "        elif b>100//6 and b<=200//6:\n",
        "          k=a[1]\n",
        "        elif b>200//6 and b<=300//6:\n",
        "          k=a[2] \n",
        "        elif b>300//6 and b<=400//6:\n",
        "          k=a[3]\n",
        "        elif b>400//6 and b<=500//6:\n",
        "          k=a[4]  \n",
        "        elif b>500//6:\n",
        "          k=a[5]\n",
        "    k=List2String(k)\n",
        "    lista.append(k.lower())         \n",
        "  lista=''.join(lista)\n",
        "  total.append(lista)\n",
        "ct=0\n",
        "ct1=0\n",
        "ct2=0\n",
        "#Now from all the data and the specific labels for each sequence,\n",
        "#We proceed to put new labels ('conjugation' or 'transformation')\n",
        "#Depending on the previous label for the sequence\n",
        "for i in range(len(dd[0])):\n",
        "  if 'hypotheticalprotein' not in dd[0][i]:\n",
        "    if 'putative' not in dd[0][i]:\n",
        "      if 'unknown' not in dd[0][i]:\n",
        "        if '-' not in dd[0][i]:\n",
        "          if 'hypothetical' not in dd[0][i]:\n",
        "            if 'unnamedproteinproduct' not in dd[0][i]:\n",
        "              if 'dnarepairprotein' not in dd[0][i]:\n",
        "                if 'resistance' not in dd[0][i]:\n",
        "                  material.append(dd[0][i])\n",
        "                  if 'conj' in dd[0][i]:\n",
        "                    names.append('conjugation')\n",
        "                    genes.append(total[i])\n",
        "                  if 'recombination' in dd[0][i]:\n",
        "                    names.append('transformation')\n",
        "                    genes.append(total[i])\n",
        "                  if 'mobileelementregion' in dd[0][i]:\n",
        "                    names.append('transformation')\n",
        "                    genes.append(total[i])\n",
        "                  if 'ctn' in dd[0][i]:\n",
        "                    names.append('conjugation')\n",
        "                    genes.append(total[i])\n",
        "                  if 'mob' in dd[0][i]:\n",
        "                    names.append('transformation')\n",
        "                    genes.append(total[i])\n",
        "                  if 'pilus' in dd[0][i]:\n",
        "                    names.append('conjugation')\n",
        "                    genes.append(total[i])\n",
        "                  if 'traq' in dd[0][i]:\n",
        "                    names.append('conjugation')\n",
        "                    genes.append(total[i])\n",
        "                  if 'trap' in dd[0][i]:\n",
        "                    names.append('conjugation')\n",
        "                    genes.append(total[i])\n",
        "                  if 'trao' in dd[0][i]:\n",
        "                    names.append('conjugation')\n",
        "                    genes.append(total[i])\n",
        "                  if 'tram' in dd[0][i]:\n",
        "                    names.append('conjugation')\n",
        "                    genes.append(total[i])\n",
        "                  if 'tral' in dd[0][i]:\n",
        "                    names.append('conjugation')\n",
        "                    genes.append(total[i])\n",
        "                  if 'trak' in dd[0][i]:\n",
        "                    names.append('conjugation')\n",
        "                    genes.append(total[i])\n",
        "                  if 'traj' in dd[0][i]:\n",
        "                    names.append('conjugation')\n",
        "                    genes.append(total[i])\n",
        "                  if 'trai' in dd[0][i]:\n",
        "                    names.append('conjugation')\n",
        "                    genes.append(total[i])\n",
        "                  if 'trah' in dd[0][i]:\n",
        "                    names.append('conjugation')\n",
        "                    genes.append(total[i])\n",
        "                  if 'trag' in dd[0][i]:\n",
        "                    names.append('conjugation')\n",
        "                    genes.append(total[i])\n",
        "                  if 'traf' in dd[0][i]:\n",
        "                    names.append('conjugation')\n",
        "                    genes.append(total[i])\n",
        "                  if 'trae' in dd[0][i]:\n",
        "                    names.append('conjugation')\n",
        "                    genes.append(total[i])\n",
        "                  if 'trad' in dd[0][i]:\n",
        "                    names.append('conjugation')\n",
        "                    genes.append(total[i])\n",
        "                  if 'trac' in dd[0][i]:\n",
        "                    names.append('conjugation')\n",
        "                    genes.append(total[i])\n",
        "                  if 'trab' in dd[0][i]:\n",
        "                    names.append('conjugation')\n",
        "                    genes.append(total[i])\n",
        "                  if 'traa' in dd[0][i]:\n",
        "                    names.append('conjugation')\n",
        "                    genes.append(total[i])\n",
        "                  if 'mating' in dd[0][i]:\n",
        "                    names.append('conjugation')\n",
        "                    genes.append(total[i])\n",
        "                  if 'integrase' in dd[0][i]:\n",
        "                    names.append('transformation')\n",
        "                    genes.append(total[i])\n",
        "\n",
        "name1=[]\n",
        "gene1=[]\n",
        "for i in range(len(names)):\n",
        "  if 'conjugation' in names[i]:\n",
        "    name1.append(names[i])\n",
        "    gene1.append(genes[i])\n",
        "  if 'transformation' in names[i]:\n",
        "    name1.append(names[i])\n",
        "    gene1.append(genes[i])\n",
        "newcsv=open('/content/drive/Shareddrives/iGEM/alexandria/CARD/PROMISCUITY/promclassesBETATEST.csv','w')\n",
        "newcsv.write('resistant,genes'+'\\n')\n",
        "for i in range(len(name1)):\n",
        "  newcsv.write(name1[i]+','+gene1[i]+'\\n')\n",
        "\n",
        "newcsv.close()"
      ],
      "execution_count": 13,
      "outputs": []
    },
    {
      "cell_type": "markdown",
      "metadata": {
        "id": "BeRn2DzbrZa4"
      },
      "source": [
        "## **CNN architecture and data preprocessing**\n",
        "Credit to: https://www.kaggle.com/drscarlat/predict-antibiotic-resistance-w-gene-sequence/"
      ]
    },
    {
      "cell_type": "code",
      "metadata": {
        "id": "mNTG037JR3Ww"
      },
      "source": [
        "def cnn():\n",
        "  model = Sequential()\n",
        "  model.add(Embedding(64, 2, input_length=maxlen))\n",
        "  model.add(layers.Conv1D(128, 243, activation='relu'))\n",
        "  model.add(layers.MaxPooling1D(3))\n",
        "  model.add(layers.Dropout(0.5))\n",
        "  model.add(layers.Conv1D(128, 81, activation='relu'))\n",
        "  model.add(layers.Dropout(0.5))\n",
        "  model.add(layers.Conv1D(128, 27, activation='relu'))\n",
        "  model.add(layers.MaxPooling1D(3))\n",
        "  model.add(layers.Dropout(0.5))\n",
        "  model.add(layers.Conv1D(128, 9, activation='relu'))\n",
        "  model.add(layers.MaxPooling1D(3))\n",
        "  model.add(layers.Dropout(0.5))\n",
        "  model.add(layers.Bidirectional(layers.GRU(32, dropout=0.2, recurrent_dropout=0.5)))\n",
        "  model.add(Dense(2, activation='softmax'))\n",
        "  model.compile(optimizer='adam', loss='categorical_crossentropy', metrics=['acc'])\n",
        "  model.summary()\n",
        "  return(model)"
      ],
      "execution_count": 6,
      "outputs": []
    },
    {
      "cell_type": "code",
      "metadata": {
        "id": "CTeXrDeWQYVf",
        "colab": {
          "base_uri": "https://localhost:8080/"
        },
        "outputId": "1d56f76a-8439-4923-839c-521ccd155ef3"
      },
      "source": [
        "DataFrame = pd.read_csv('ADD_YOUR_PATH')#Reading the generated CSV\n",
        "DataCod = DataFrame.copy()\n",
        "#Process of conversion from aminoacid sequence to codon sequence\n",
        "Codons = list(DataCod['genes'])\n",
        "length = []\n",
        "for n in range(len(Codons)):\n",
        "    Codons[n] = list([Codons[n][i:i+3] for i in range(0, len(Codons[n]), 3)])\n",
        "    length.append(len(Codons[n]))\n",
        "    \n",
        "DataCod['codons'] = Codons\n",
        "#The maximum length will be used for the padding of sequences\n",
        "maxlen = max(length) \n",
        "\n",
        "max_words = 64 # Number of words in the dictionary, equal to the number of  possible codons\n",
        "max_features = max_words\n",
        "\n",
        "#tokenizer = Tokenizer(num_words=max_words, char_level=True)\n",
        "tokenizer = Tokenizer(num_words=max_words)\n",
        "tokenizer.fit_on_texts(list(DataCod['codons']))\n",
        "sequences = tokenizer.texts_to_sequences(list(DataCod['codons']))\n",
        "word_index = tokenizer.word_index\n",
        "Xpad = pad_sequences(sequences, maxlen=maxlen, padding='post', truncating='post', value=0)\n",
        "\n",
        "# This step ensures that the generated dictionary has exactly what we asked for since in some cases words that are not codons are generated\n",
        "new_dict= {'cac', 'cgt', 'aat', 'atg', 'tac', 'att', 'tgg', 'gac', 'tgc', 'act', 'gtt', 'gaa', 'aaa', 'cag', 'tga', 'ttg', 'gct', 'ttc', 'tct', 'ggc', 'aca', 'taa', 'ctg', 'ata', 'caa', 'ctt', 'tcg', 'gtc', 'aac', 'gga', 'acg', 'gca', 'tta', 'cta', 'acc', 'gat', 'tca', 'tat', 'agg', 'tgt', 'gtg', 'cga', 'cgc', 'ttt', 'aga', 'ggt', 'ctc', 'cca', 'ccg', 'gcg', 'a', 'ga', 'tag', 'atc', 'cat', 'agt', 'cgg', 'aag', 'gag', 'cct', 'gta', 'ggg', 'tcc', 'agc', 'ccc', 'gcc'}\n",
        "unwanted= set(word_index) - set(new_dict)\n",
        "for unwanted_key in unwanted: del word_index[unwanted_key]\n",
        "\n",
        "\n",
        "# Separate the label\n",
        "\n",
        "labels = np.asarray(DataCod['resistant'])\n",
        "\n",
        "\n",
        "training_samples = int(Xpad.shape[0] * 0.8) # This number will be used to separate between train set (80% of data) and test set (20% of data)\n",
        "\n",
        "\n",
        "indices = np.arange(Xpad.shape[0])\n",
        "np.random.shuffle(indices) #Shuffle all the data to better train the CNN\n",
        "Xpad = Xpad[indices]\n",
        "labels = labels[indices]\n",
        "\n",
        "x_train = Xpad[:training_samples]\n",
        "y_train = labels[:training_samples]\n",
        "x_test = Xpad[training_samples:]\n",
        "y_test = labels[training_samples:]\n",
        "\n",
        "#Labels need to be encoded as well like the sequences. Hence,\n",
        "#the label encoder is employed to do this task and obtain\n",
        "#encoded labels\n",
        "encoder=LabelEncoder()\n",
        "encoder.fit(y_train)\n",
        "encoded_Y=encoder.transform(y_train)\n",
        "\n",
        "encoder1=LabelEncoder()\n",
        "encoder1.fit(y_test)\n",
        "encoded_Y1=encoder1.transform(y_test)\n",
        "y=np_utils.to_categorical(encoded_Y)\n",
        "y_test=np_utils.to_categorical(encoded_Y1)\n",
        "model = cnn()\n"
      ],
      "execution_count": 10,
      "outputs": [
        {
          "output_type": "stream",
          "name": "stdout",
          "text": [
            "3066\n",
            "WARNING:tensorflow:Layer gru_1 will not use cuDNN kernels since it doesn't meet the criteria. It will use a generic GPU kernel as fallback when running on GPU.\n",
            "WARNING:tensorflow:Layer gru_1 will not use cuDNN kernels since it doesn't meet the criteria. It will use a generic GPU kernel as fallback when running on GPU.\n",
            "WARNING:tensorflow:Layer gru_1 will not use cuDNN kernels since it doesn't meet the criteria. It will use a generic GPU kernel as fallback when running on GPU.\n",
            "Model: \"sequential_1\"\n",
            "_________________________________________________________________\n",
            "Layer (type)                 Output Shape              Param #   \n",
            "=================================================================\n",
            "embedding_1 (Embedding)      (None, 1733, 2)           128       \n",
            "_________________________________________________________________\n",
            "conv1d_4 (Conv1D)            (None, 1491, 128)         62336     \n",
            "_________________________________________________________________\n",
            "max_pooling1d_3 (MaxPooling1 (None, 497, 128)          0         \n",
            "_________________________________________________________________\n",
            "dropout_4 (Dropout)          (None, 497, 128)          0         \n",
            "_________________________________________________________________\n",
            "conv1d_5 (Conv1D)            (None, 417, 128)          1327232   \n",
            "_________________________________________________________________\n",
            "dropout_5 (Dropout)          (None, 417, 128)          0         \n",
            "_________________________________________________________________\n",
            "conv1d_6 (Conv1D)            (None, 391, 128)          442496    \n",
            "_________________________________________________________________\n",
            "max_pooling1d_4 (MaxPooling1 (None, 130, 128)          0         \n",
            "_________________________________________________________________\n",
            "dropout_6 (Dropout)          (None, 130, 128)          0         \n",
            "_________________________________________________________________\n",
            "conv1d_7 (Conv1D)            (None, 122, 128)          147584    \n",
            "_________________________________________________________________\n",
            "max_pooling1d_5 (MaxPooling1 (None, 40, 128)           0         \n",
            "_________________________________________________________________\n",
            "dropout_7 (Dropout)          (None, 40, 128)           0         \n",
            "_________________________________________________________________\n",
            "bidirectional_1 (Bidirection (None, 64)                31104     \n",
            "_________________________________________________________________\n",
            "dense_1 (Dense)              (None, 2)                 130       \n",
            "=================================================================\n",
            "Total params: 2,011,010\n",
            "Trainable params: 2,011,010\n",
            "Non-trainable params: 0\n",
            "_________________________________________________________________\n"
          ]
        }
      ]
    },
    {
      "cell_type": "markdown",
      "metadata": {
        "id": "ioeHT3clDspf"
      },
      "source": [
        "## **Fit and save the model**\n",
        "Paths must be changed"
      ]
    },
    {
      "cell_type": "code",
      "metadata": {
        "id": "jnkPZtYFOvX9"
      },
      "source": [
        "history = model.fit(x_train, y, epochs = 10, batch_size=16, validation_split=0.2)\n",
        "\n",
        "model.save('ADD_YOUR_PATH')"
      ],
      "execution_count": null,
      "outputs": []
    },
    {
      "cell_type": "markdown",
      "metadata": {
        "id": "FCsMVEboTC8d"
      },
      "source": [
        "## **Metrics calculation and first prediction, individual labels**\n",
        "With this cell you can input the path of the saved model and look at the confusion matrix and classification report for the promiscuity mechanisms.\n",
        "\n",
        "Credit for the function for plotting the matrix in a beatiful manner and the probability treshold decision to: \n",
        "https://www.kaggle.com/drscarlat/predict-antibiotic-resistance-w-gene-sequence/"
      ]
    },
    {
      "cell_type": "code",
      "metadata": {
        "colab": {
          "base_uri": "https://localhost:8080/",
          "height": 1000
        },
        "id": "o1ce8WCx1dHO",
        "outputId": "1d90b339-1a21-4589-fc15-8f11c1de0019"
      },
      "source": [
        "model = keras.models.load_model('ADD_YOUR_PATH')\n",
        "from sklearn.metrics import confusion_matrix, classification_report\n",
        "import seaborn as sns\n",
        "def separate_metrics(matrix,cyst):\n",
        "  TP=matrix[cyst][cyst]\n",
        "  FN=sum(matrix[cyst,:])-TP\n",
        "  FP=sum(matrix[:,cyst])-TP\n",
        "  TN=sum(sum(matrix))-TP-FP-FN\n",
        "  return TP,FP,TN,FN\n",
        "  \n",
        "final_predictions = model.predict(x_test)#We use keras to predict the mechanisms of the test set, the predicitons are arrays of 2 positions with the probability to belong to each label\n",
        "evaluate=model.evaluate(x_test,y_test)# We can obtain the metrics for accuracy in the test set in a direct manner by putting the labels\n",
        "# An important step is to transform the probabilities to binary decisions (either you belong to a label or not), we used the typical treshold in literature of 0.5\n",
        "Preds = final_predictions.copy()\n",
        "Preds[ np.where( Preds >= 0.5 ) ] = 1\n",
        "Preds[ np.where( Preds < 0.5 ) ] = 0\n",
        "\n",
        "print('Metrics Report: ')\n",
        "conf_mx = classification_report(y_test, Preds)\n",
        "print(conf_mx)\n",
        "\n",
        "y_pred = [np.argmax(probas) for probas in final_predictions]\n",
        "y_test_int = np.argmax(y_test, axis=1)\n",
        "\n",
        "class_names = ['transformation','conjugation']\n",
        "\n",
        "from sklearn.metrics import confusion_matrix\n",
        "import itertools\n",
        "#Function to plot a generated confusion matrix from Alexander Scarlat, you can select the colormap, light or dark theme and the figure size\n",
        "def plot_confusion_matrix(cm, classes, title='Confusion matrix', cmap=plt.cm.Blues):\n",
        "    cm = cm.astype('float') / cm.sum(axis=1)[:, np.newaxis]\n",
        "    plt.figure(figsize=(15,15))\n",
        "    plt.imshow(cm, interpolation='nearest', cmap=cmap)\n",
        "    plt.title(title)\n",
        "    plt.colorbar()\n",
        "    tick_marks = np.arange(len(classes))\n",
        "    plt.xticks(tick_marks, classes, rotation=45)\n",
        "    plt.yticks(tick_marks, classes)\n",
        "\n",
        "    fmt = '.2f'\n",
        "    thresh = cm.max() / 2.\n",
        "    for i, j in itertools.product(range(cm.shape[0]), range(cm.shape[1])):\n",
        "        plt.text(j, i, format(cm[i, j], fmt),\n",
        "                 horizontalalignment=\"center\",\n",
        "                 color=\"white\" if cm[i, j] > thresh else \"black\")\n",
        "\n",
        "    plt.ylabel('True label')\n",
        "    plt.xlabel('Predicted label')\n",
        "  \n",
        "    \n",
        "# compute confusion matrix\n",
        "cnf_matrix = confusion_matrix(y_test_int, y_pred)\n",
        "np.set_printoptions(precision=2)\n",
        "\n",
        "# plot normalized confusion matrix\n",
        "plt.figure()\n",
        "plot_confusion_matrix(cnf_matrix, classes=class_names, title='Normalized confusion matrix')\n",
        "plt.show()"
      ],
      "execution_count": 11,
      "outputs": [
        {
          "output_type": "stream",
          "name": "stdout",
          "text": [
            "WARNING:tensorflow:Layer gru will not use cuDNN kernels since it doesn't meet the criteria. It will use a generic GPU kernel as fallback when running on GPU.\n",
            "WARNING:tensorflow:Layer gru will not use cuDNN kernels since it doesn't meet the criteria. It will use a generic GPU kernel as fallback when running on GPU.\n",
            "WARNING:tensorflow:Layer gru will not use cuDNN kernels since it doesn't meet the criteria. It will use a generic GPU kernel as fallback when running on GPU.\n",
            "20/20 [==============================] - 1s 38ms/step - loss: 0.0799 - acc: 0.9788\n",
            "Metrics Report: \n",
            "              precision    recall  f1-score   support\n",
            "\n",
            "           0       0.99      0.99      0.99       507\n",
            "           1       0.94      0.93      0.94       107\n",
            "\n",
            "   micro avg       0.98      0.98      0.98       614\n",
            "   macro avg       0.96      0.96      0.96       614\n",
            "weighted avg       0.98      0.98      0.98       614\n",
            " samples avg       0.98      0.98      0.98       614\n",
            "\n"
          ]
        },
        {
          "output_type": "display_data",
          "data": {
            "text/plain": [
              "<Figure size 432x288 with 0 Axes>"
            ]
          },
          "metadata": {}
        },
        {
          "output_type": "display_data",
          "data": {
            "image/png": "[encoded data removed]",
            "text/plain": [
              "<Figure size 1080x1080 with 2 Axes>"
            ]
          },
          "metadata": {
            "needs_background": "light"
          }
        }
      ]
    }
  ]
}